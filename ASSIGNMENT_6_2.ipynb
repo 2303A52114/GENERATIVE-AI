{
  "nbformat": 4,
  "nbformat_minor": 0,
  "metadata": {
    "colab": {
      "provenance": [],
      "authorship_tag": "ABX9TyMeVBGTLCCu66aiwWgWuF4m",
      "include_colab_link": true
    },
    "kernelspec": {
      "name": "python3",
      "display_name": "Python 3"
    },
    "language_info": {
      "name": "python"
    }
  },
  "cells": [
    {
      "cell_type": "markdown",
      "metadata": {
        "id": "view-in-github",
        "colab_type": "text"
      },
      "source": [
        "<a href=\"https://colab.research.google.com/github/2303A52114/GENERATIVE-AI/blob/main/ASSIGNMENT_6_2.ipynb\" target=\"_parent\"><img src=\"https://colab.research.google.com/assets/colab-badge.svg\" alt=\"Open In Colab\"/></a>"
      ]
    },
    {
      "cell_type": "code",
      "execution_count": 3,
      "metadata": {
        "colab": {
          "base_uri": "https://localhost:8080/"
        },
        "id": "FDwBtriHeq8Q",
        "outputId": "672806f5-49df-40fd-bb5b-9d3d4f753b25"
      },
      "outputs": [
        {
          "output_type": "stream",
          "name": "stdout",
          "text": [
            "Epoch 1/200\n"
          ]
        },
        {
          "output_type": "stream",
          "name": "stderr",
          "text": [
            "/usr/local/lib/python3.11/dist-packages/keras/src/layers/core/dense.py:87: UserWarning: Do not pass an `input_shape`/`input_dim` argument to a layer. When using Sequential models, prefer using an `Input(shape)` object as the first layer in the model instead.\n",
            "  super().__init__(activity_regularizer=activity_regularizer, **kwargs)\n"
          ]
        },
        {
          "output_type": "stream",
          "name": "stdout",
          "text": [
            "\u001b[1m14/14\u001b[0m \u001b[32m━━━━━━━━━━━━━━━━━━━━\u001b[0m\u001b[37m\u001b[0m \u001b[1m5s\u001b[0m 74ms/step - loss: 212.9240 - mae: 14.5687 - val_loss: 165.2116 - val_mae: 12.8305\n",
            "Epoch 2/200\n",
            "\u001b[1m14/14\u001b[0m \u001b[32m━━━━━━━━━━━━━━━━━━━━\u001b[0m\u001b[37m\u001b[0m \u001b[1m0s\u001b[0m 8ms/step - loss: 134.5067 - mae: 11.4570 - val_loss: 46.6679 - val_mae: 6.5340\n",
            "Epoch 3/200\n",
            "\u001b[1m14/14\u001b[0m \u001b[32m━━━━━━━━━━━━━━━━━━━━\u001b[0m\u001b[37m\u001b[0m \u001b[1m0s\u001b[0m 8ms/step - loss: 30.5498 - mae: 4.7719 - val_loss: 16.0218 - val_mae: 3.1756\n",
            "Epoch 4/200\n",
            "\u001b[1m14/14\u001b[0m \u001b[32m━━━━━━━━━━━━━━━━━━━━\u001b[0m\u001b[37m\u001b[0m \u001b[1m0s\u001b[0m 8ms/step - loss: 19.8245 - mae: 3.4501 - val_loss: 10.2346 - val_mae: 2.6032\n",
            "Epoch 5/200\n",
            "\u001b[1m14/14\u001b[0m \u001b[32m━━━━━━━━━━━━━━━━━━━━\u001b[0m\u001b[37m\u001b[0m \u001b[1m0s\u001b[0m 8ms/step - loss: 13.0721 - mae: 2.8985 - val_loss: 7.7606 - val_mae: 2.2563\n",
            "Epoch 6/200\n",
            "\u001b[1m14/14\u001b[0m \u001b[32m━━━━━━━━━━━━━━━━━━━━\u001b[0m\u001b[37m\u001b[0m \u001b[1m0s\u001b[0m 8ms/step - loss: 10.9313 - mae: 2.6698 - val_loss: 6.8265 - val_mae: 2.1417\n",
            "Epoch 7/200\n",
            "\u001b[1m14/14\u001b[0m \u001b[32m━━━━━━━━━━━━━━━━━━━━\u001b[0m\u001b[37m\u001b[0m \u001b[1m0s\u001b[0m 8ms/step - loss: 10.4020 - mae: 2.6066 - val_loss: 6.8695 - val_mae: 2.1298\n",
            "Epoch 8/200\n",
            "\u001b[1m14/14\u001b[0m \u001b[32m━━━━━━━━━━━━━━━━━━━━\u001b[0m\u001b[37m\u001b[0m \u001b[1m0s\u001b[0m 8ms/step - loss: 10.0513 - mae: 2.4938 - val_loss: 6.3461 - val_mae: 2.0502\n",
            "Epoch 9/200\n",
            "\u001b[1m14/14\u001b[0m \u001b[32m━━━━━━━━━━━━━━━━━━━━\u001b[0m\u001b[37m\u001b[0m \u001b[1m0s\u001b[0m 9ms/step - loss: 10.9201 - mae: 2.5941 - val_loss: 5.9258 - val_mae: 1.9865\n",
            "Epoch 10/200\n",
            "\u001b[1m14/14\u001b[0m \u001b[32m━━━━━━━━━━━━━━━━━━━━\u001b[0m\u001b[37m\u001b[0m \u001b[1m0s\u001b[0m 7ms/step - loss: 9.4158 - mae: 2.4654 - val_loss: 5.0904 - val_mae: 1.8031\n",
            "Epoch 11/200\n",
            "\u001b[1m14/14\u001b[0m \u001b[32m━━━━━━━━━━━━━━━━━━━━\u001b[0m\u001b[37m\u001b[0m \u001b[1m0s\u001b[0m 8ms/step - loss: 9.3250 - mae: 2.3985 - val_loss: 5.9077 - val_mae: 1.9826\n",
            "Epoch 12/200\n",
            "\u001b[1m14/14\u001b[0m \u001b[32m━━━━━━━━━━━━━━━━━━━━\u001b[0m\u001b[37m\u001b[0m \u001b[1m0s\u001b[0m 11ms/step - loss: 8.9711 - mae: 2.3543 - val_loss: 4.6731 - val_mae: 1.7517\n",
            "Epoch 13/200\n",
            "\u001b[1m14/14\u001b[0m \u001b[32m━━━━━━━━━━━━━━━━━━━━\u001b[0m\u001b[37m\u001b[0m \u001b[1m0s\u001b[0m 7ms/step - loss: 9.2707 - mae: 2.3486 - val_loss: 5.8189 - val_mae: 1.9741\n",
            "Epoch 14/200\n",
            "\u001b[1m14/14\u001b[0m \u001b[32m━━━━━━━━━━━━━━━━━━━━\u001b[0m\u001b[37m\u001b[0m \u001b[1m0s\u001b[0m 8ms/step - loss: 8.1648 - mae: 2.2699 - val_loss: 4.3478 - val_mae: 1.7105\n",
            "Epoch 15/200\n",
            "\u001b[1m14/14\u001b[0m \u001b[32m━━━━━━━━━━━━━━━━━━━━\u001b[0m\u001b[37m\u001b[0m \u001b[1m0s\u001b[0m 8ms/step - loss: 8.9234 - mae: 2.3034 - val_loss: 4.6516 - val_mae: 1.7470\n",
            "Epoch 16/200\n",
            "\u001b[1m14/14\u001b[0m \u001b[32m━━━━━━━━━━━━━━━━━━━━\u001b[0m\u001b[37m\u001b[0m \u001b[1m0s\u001b[0m 7ms/step - loss: 6.8497 - mae: 2.0380 - val_loss: 3.9527 - val_mae: 1.6045\n",
            "Epoch 17/200\n",
            "\u001b[1m14/14\u001b[0m \u001b[32m━━━━━━━━━━━━━━━━━━━━\u001b[0m\u001b[37m\u001b[0m \u001b[1m0s\u001b[0m 7ms/step - loss: 7.6291 - mae: 2.2220 - val_loss: 4.0172 - val_mae: 1.6133\n",
            "Epoch 18/200\n",
            "\u001b[1m14/14\u001b[0m \u001b[32m━━━━━━━━━━━━━━━━━━━━\u001b[0m\u001b[37m\u001b[0m \u001b[1m0s\u001b[0m 8ms/step - loss: 7.2426 - mae: 2.1288 - val_loss: 3.9755 - val_mae: 1.5998\n",
            "Epoch 19/200\n",
            "\u001b[1m14/14\u001b[0m \u001b[32m━━━━━━━━━━━━━━━━━━━━\u001b[0m\u001b[37m\u001b[0m \u001b[1m0s\u001b[0m 8ms/step - loss: 7.1401 - mae: 2.1521 - val_loss: 4.3351 - val_mae: 1.6765\n",
            "Epoch 20/200\n",
            "\u001b[1m14/14\u001b[0m \u001b[32m━━━━━━━━━━━━━━━━━━━━\u001b[0m\u001b[37m\u001b[0m \u001b[1m0s\u001b[0m 8ms/step - loss: 6.4659 - mae: 2.0625 - val_loss: 3.3563 - val_mae: 1.4884\n",
            "Epoch 21/200\n",
            "\u001b[1m14/14\u001b[0m \u001b[32m━━━━━━━━━━━━━━━━━━━━\u001b[0m\u001b[37m\u001b[0m \u001b[1m0s\u001b[0m 8ms/step - loss: 7.1605 - mae: 2.0748 - val_loss: 3.3695 - val_mae: 1.4767\n",
            "Epoch 22/200\n",
            "\u001b[1m14/14\u001b[0m \u001b[32m━━━━━━━━━━━━━━━━━━━━\u001b[0m\u001b[37m\u001b[0m \u001b[1m0s\u001b[0m 8ms/step - loss: 6.5465 - mae: 2.0486 - val_loss: 3.0647 - val_mae: 1.3751\n",
            "Epoch 23/200\n",
            "\u001b[1m14/14\u001b[0m \u001b[32m━━━━━━━━━━━━━━━━━━━━\u001b[0m\u001b[37m\u001b[0m \u001b[1m0s\u001b[0m 8ms/step - loss: 6.9822 - mae: 2.0675 - val_loss: 3.5709 - val_mae: 1.4618\n",
            "Epoch 24/200\n",
            "\u001b[1m14/14\u001b[0m \u001b[32m━━━━━━━━━━━━━━━━━━━━\u001b[0m\u001b[37m\u001b[0m \u001b[1m0s\u001b[0m 8ms/step - loss: 5.2567 - mae: 1.7860 - val_loss: 3.8024 - val_mae: 1.5330\n",
            "Epoch 25/200\n",
            "\u001b[1m14/14\u001b[0m \u001b[32m━━━━━━━━━━━━━━━━━━━━\u001b[0m\u001b[37m\u001b[0m \u001b[1m0s\u001b[0m 11ms/step - loss: 5.8862 - mae: 1.9456 - val_loss: 3.0118 - val_mae: 1.3625\n",
            "Epoch 26/200\n",
            "\u001b[1m14/14\u001b[0m \u001b[32m━━━━━━━━━━━━━━━━━━━━\u001b[0m\u001b[37m\u001b[0m \u001b[1m0s\u001b[0m 8ms/step - loss: 6.5004 - mae: 1.9707 - val_loss: 2.2324 - val_mae: 1.1131\n",
            "Epoch 27/200\n",
            "\u001b[1m14/14\u001b[0m \u001b[32m━━━━━━━━━━━━━━━━━━━━\u001b[0m\u001b[37m\u001b[0m \u001b[1m0s\u001b[0m 11ms/step - loss: 5.9813 - mae: 1.9044 - val_loss: 3.4470 - val_mae: 1.5081\n",
            "Epoch 28/200\n",
            "\u001b[1m14/14\u001b[0m \u001b[32m━━━━━━━━━━━━━━━━━━━━\u001b[0m\u001b[37m\u001b[0m \u001b[1m0s\u001b[0m 7ms/step - loss: 5.5244 - mae: 1.8696 - val_loss: 4.2901 - val_mae: 1.7082\n",
            "Epoch 29/200\n",
            "\u001b[1m14/14\u001b[0m \u001b[32m━━━━━━━━━━━━━━━━━━━━\u001b[0m\u001b[37m\u001b[0m \u001b[1m0s\u001b[0m 8ms/step - loss: 6.2171 - mae: 1.9545 - val_loss: 2.3204 - val_mae: 1.1598\n",
            "Epoch 30/200\n",
            "\u001b[1m14/14\u001b[0m \u001b[32m━━━━━━━━━━━━━━━━━━━━\u001b[0m\u001b[37m\u001b[0m \u001b[1m0s\u001b[0m 8ms/step - loss: 5.2067 - mae: 1.8367 - val_loss: 2.3001 - val_mae: 1.1124\n",
            "Epoch 31/200\n",
            "\u001b[1m14/14\u001b[0m \u001b[32m━━━━━━━━━━━━━━━━━━━━\u001b[0m\u001b[37m\u001b[0m \u001b[1m0s\u001b[0m 8ms/step - loss: 5.1370 - mae: 1.7672 - val_loss: 2.6792 - val_mae: 1.2427\n",
            "Epoch 32/200\n",
            "\u001b[1m14/14\u001b[0m \u001b[32m━━━━━━━━━━━━━━━━━━━━\u001b[0m\u001b[37m\u001b[0m \u001b[1m0s\u001b[0m 8ms/step - loss: 5.2348 - mae: 1.7714 - val_loss: 2.1901 - val_mae: 1.1280\n",
            "Epoch 33/200\n",
            "\u001b[1m14/14\u001b[0m \u001b[32m━━━━━━━━━━━━━━━━━━━━\u001b[0m\u001b[37m\u001b[0m \u001b[1m0s\u001b[0m 8ms/step - loss: 5.1536 - mae: 1.7636 - val_loss: 2.0278 - val_mae: 1.0665\n",
            "Epoch 34/200\n",
            "\u001b[1m14/14\u001b[0m \u001b[32m━━━━━━━━━━━━━━━━━━━━\u001b[0m\u001b[37m\u001b[0m \u001b[1m0s\u001b[0m 8ms/step - loss: 5.1896 - mae: 1.7776 - val_loss: 2.6154 - val_mae: 1.2518\n",
            "Epoch 35/200\n",
            "\u001b[1m14/14\u001b[0m \u001b[32m━━━━━━━━━━━━━━━━━━━━\u001b[0m\u001b[37m\u001b[0m \u001b[1m0s\u001b[0m 8ms/step - loss: 4.8264 - mae: 1.6903 - val_loss: 1.9923 - val_mae: 1.0471\n",
            "Epoch 36/200\n",
            "\u001b[1m14/14\u001b[0m \u001b[32m━━━━━━━━━━━━━━━━━━━━\u001b[0m\u001b[37m\u001b[0m \u001b[1m0s\u001b[0m 8ms/step - loss: 4.1319 - mae: 1.5952 - val_loss: 2.0702 - val_mae: 1.0799\n",
            "Epoch 37/200\n",
            "\u001b[1m14/14\u001b[0m \u001b[32m━━━━━━━━━━━━━━━━━━━━\u001b[0m\u001b[37m\u001b[0m \u001b[1m0s\u001b[0m 10ms/step - loss: 4.6639 - mae: 1.7354 - val_loss: 1.9470 - val_mae: 1.0421\n",
            "Epoch 38/200\n",
            "\u001b[1m14/14\u001b[0m \u001b[32m━━━━━━━━━━━━━━━━━━━━\u001b[0m\u001b[37m\u001b[0m \u001b[1m0s\u001b[0m 8ms/step - loss: 4.9095 - mae: 1.7503 - val_loss: 2.1825 - val_mae: 1.1174\n",
            "Epoch 39/200\n",
            "\u001b[1m14/14\u001b[0m \u001b[32m━━━━━━━━━━━━━━━━━━━━\u001b[0m\u001b[37m\u001b[0m \u001b[1m0s\u001b[0m 8ms/step - loss: 4.8880 - mae: 1.7933 - val_loss: 1.8652 - val_mae: 1.0355\n",
            "Epoch 40/200\n",
            "\u001b[1m14/14\u001b[0m \u001b[32m━━━━━━━━━━━━━━━━━━━━\u001b[0m\u001b[37m\u001b[0m \u001b[1m0s\u001b[0m 10ms/step - loss: 4.3650 - mae: 1.5649 - val_loss: 1.5501 - val_mae: 0.9174\n",
            "Epoch 41/200\n",
            "\u001b[1m14/14\u001b[0m \u001b[32m━━━━━━━━━━━━━━━━━━━━\u001b[0m\u001b[37m\u001b[0m \u001b[1m0s\u001b[0m 8ms/step - loss: 3.5576 - mae: 1.4140 - val_loss: 2.1821 - val_mae: 1.1589\n",
            "Epoch 42/200\n",
            "\u001b[1m14/14\u001b[0m \u001b[32m━━━━━━━━━━━━━━━━━━━━\u001b[0m\u001b[37m\u001b[0m \u001b[1m0s\u001b[0m 10ms/step - loss: 3.6069 - mae: 1.4429 - val_loss: 1.6161 - val_mae: 0.9450\n",
            "Epoch 43/200\n",
            "\u001b[1m14/14\u001b[0m \u001b[32m━━━━━━━━━━━━━━━━━━━━\u001b[0m\u001b[37m\u001b[0m \u001b[1m0s\u001b[0m 8ms/step - loss: 3.3875 - mae: 1.4189 - val_loss: 1.5994 - val_mae: 0.9176\n",
            "Epoch 44/200\n",
            "\u001b[1m14/14\u001b[0m \u001b[32m━━━━━━━━━━━━━━━━━━━━\u001b[0m\u001b[37m\u001b[0m \u001b[1m0s\u001b[0m 9ms/step - loss: 3.3845 - mae: 1.4142 - val_loss: 1.4834 - val_mae: 0.9182\n",
            "Epoch 45/200\n",
            "\u001b[1m14/14\u001b[0m \u001b[32m━━━━━━━━━━━━━━━━━━━━\u001b[0m\u001b[37m\u001b[0m \u001b[1m0s\u001b[0m 10ms/step - loss: 3.9931 - mae: 1.5681 - val_loss: 1.3489 - val_mae: 0.8213\n",
            "Epoch 46/200\n",
            "\u001b[1m14/14\u001b[0m \u001b[32m━━━━━━━━━━━━━━━━━━━━\u001b[0m\u001b[37m\u001b[0m \u001b[1m0s\u001b[0m 10ms/step - loss: 4.3291 - mae: 1.5847 - val_loss: 1.6668 - val_mae: 0.9712\n",
            "Epoch 47/200\n",
            "\u001b[1m14/14\u001b[0m \u001b[32m━━━━━━━━━━━━━━━━━━━━\u001b[0m\u001b[37m\u001b[0m \u001b[1m0s\u001b[0m 8ms/step - loss: 3.9958 - mae: 1.5334 - val_loss: 1.3725 - val_mae: 0.8440\n",
            "Epoch 48/200\n",
            "\u001b[1m14/14\u001b[0m \u001b[32m━━━━━━━━━━━━━━━━━━━━\u001b[0m\u001b[37m\u001b[0m \u001b[1m0s\u001b[0m 8ms/step - loss: 3.8595 - mae: 1.5508 - val_loss: 1.5212 - val_mae: 0.9469\n",
            "Epoch 49/200\n",
            "\u001b[1m14/14\u001b[0m \u001b[32m━━━━━━━━━━━━━━━━━━━━\u001b[0m\u001b[37m\u001b[0m \u001b[1m0s\u001b[0m 8ms/step - loss: 3.8706 - mae: 1.5265 - val_loss: 2.2209 - val_mae: 1.1483\n",
            "Epoch 50/200\n",
            "\u001b[1m14/14\u001b[0m \u001b[32m━━━━━━━━━━━━━━━━━━━━\u001b[0m\u001b[37m\u001b[0m \u001b[1m0s\u001b[0m 8ms/step - loss: 3.4756 - mae: 1.4450 - val_loss: 1.9471 - val_mae: 1.1392\n",
            "Epoch 51/200\n",
            "\u001b[1m14/14\u001b[0m \u001b[32m━━━━━━━━━━━━━━━━━━━━\u001b[0m\u001b[37m\u001b[0m \u001b[1m0s\u001b[0m 8ms/step - loss: 3.8134 - mae: 1.5330 - val_loss: 2.0808 - val_mae: 1.1962\n",
            "Epoch 52/200\n",
            "\u001b[1m14/14\u001b[0m \u001b[32m━━━━━━━━━━━━━━━━━━━━\u001b[0m\u001b[37m\u001b[0m \u001b[1m0s\u001b[0m 8ms/step - loss: 4.0389 - mae: 1.5394 - val_loss: 1.4065 - val_mae: 0.8941\n",
            "Epoch 53/200\n",
            "\u001b[1m14/14\u001b[0m \u001b[32m━━━━━━━━━━━━━━━━━━━━\u001b[0m\u001b[37m\u001b[0m \u001b[1m0s\u001b[0m 8ms/step - loss: 3.8364 - mae: 1.5316 - val_loss: 1.9335 - val_mae: 1.1087\n",
            "Epoch 54/200\n",
            "\u001b[1m14/14\u001b[0m \u001b[32m━━━━━━━━━━━━━━━━━━━━\u001b[0m\u001b[37m\u001b[0m \u001b[1m0s\u001b[0m 10ms/step - loss: 4.1476 - mae: 1.6375 - val_loss: 1.4676 - val_mae: 0.9166\n",
            "Epoch 55/200\n",
            "\u001b[1m14/14\u001b[0m \u001b[32m━━━━━━━━━━━━━━━━━━━━\u001b[0m\u001b[37m\u001b[0m \u001b[1m0s\u001b[0m 8ms/step - loss: 3.7878 - mae: 1.5644 - val_loss: 1.4582 - val_mae: 0.9004\n",
            "\u001b[1m14/14\u001b[0m \u001b[32m━━━━━━━━━━━━━━━━━━━━\u001b[0m\u001b[37m\u001b[0m \u001b[1m0s\u001b[0m 3ms/step - loss: 0.7306 - mae: 0.5736 \n",
            "\u001b[1m4/4\u001b[0m \u001b[32m━━━━━━━━━━━━━━━━━━━━\u001b[0m\u001b[37m\u001b[0m \u001b[1m0s\u001b[0m 9ms/step - loss: 1.2515 - mae: 0.7869 \n"
          ]
        },
        {
          "output_type": "stream",
          "name": "stderr",
          "text": [
            "WARNING:absl:You are saving your model as an HDF5 file via `model.save()` or `keras.saving.save_model(model)`. This file format is considered legacy. We recommend using instead the native Keras format, e.g. `model.save('my_model.keras')` or `keras.saving.save_model(model, 'my_model.keras')`. \n"
          ]
        },
        {
          "output_type": "stream",
          "name": "stdout",
          "text": [
            "Training MAE: 0.5689617395401001, Testing MAE: 0.8213415741920471\n",
            "Optimized model saved as 'housing_price_model_optimized.h5'.\n"
          ]
        },
        {
          "output_type": "stream",
          "name": "stderr",
          "text": [
            "WARNING:absl:Compiled the loaded model, but the compiled metrics have yet to be built. `model.compile_metrics` will be empty until you train or evaluate the model.\n"
          ]
        },
        {
          "output_type": "stream",
          "name": "stdout",
          "text": [
            "\u001b[1m1/1\u001b[0m \u001b[32m━━━━━━━━━━━━━━━━━━━━\u001b[0m\u001b[37m\u001b[0m \u001b[1m0s\u001b[0m 74ms/step\n",
            "Sample Predictions:\n",
            "[[ 182290.5]\n",
            " [2115203.2]\n",
            " [4578314. ]\n",
            " [3066397. ]\n",
            " [2163737.2]]\n"
          ]
        }
      ],
      "source": [
        "import pandas as pd\n",
        "import numpy as np\n",
        "import tensorflow as tf\n",
        "from tensorflow.keras.models import Sequential\n",
        "from tensorflow.keras.layers import Dense, Dropout\n",
        "from tensorflow.keras.regularizers import l2\n",
        "from sklearn.model_selection import train_test_split\n",
        "from sklearn.preprocessing import StandardScaler\n",
        "\n",
        "# Load dataset\n",
        "file_path = \"Housing.csv\"\n",
        "df = pd.read_csv(file_path)\n",
        "\n",
        "# Identify categorical and numerical columns\n",
        "categorical_columns = ['mainroad', 'guestroom', 'basement', 'hotwaterheating',\n",
        "                       'airconditioning', 'prefarea', 'furnishingstatus']\n",
        "numerical_columns = [col for col in df.columns if col not in categorical_columns + ['price']]\n",
        "\n",
        "# One-hot encode categorical variables\n",
        "df = pd.get_dummies(df, columns=categorical_columns, drop_first=True)\n",
        "\n",
        "# Handle skewness in target variable\n",
        "df['price'] = np.log1p(df['price'])\n",
        "\n",
        "# Separate features and target variable\n",
        "X = df.drop(columns=['price'])\n",
        "y = df['price']\n",
        "\n",
        "# Normalize numerical features\n",
        "scaler = StandardScaler()\n",
        "X[numerical_columns] = scaler.fit_transform(X[numerical_columns])\n",
        "\n",
        "# Split the data into training and testing sets\n",
        "X_train, X_test, y_train, y_test = train_test_split(X, y, test_size=0.2, random_state=42)\n",
        "\n",
        "# Define the improved ANN model\n",
        "model = Sequential([\n",
        "    Dense(64, activation='relu', kernel_regularizer=l2(0.001), input_shape=(X_train.shape[1],)),\n",
        "    Dropout(0.2),\n",
        "    Dense(128, activation='relu', kernel_regularizer=l2(0.001)),\n",
        "    Dropout(0.3),\n",
        "    Dense(64, activation='relu', kernel_regularizer=l2(0.001)),\n",
        "    Dropout(0.2),\n",
        "    Dense(1, activation='linear')\n",
        "])\n",
        "\n",
        "# Compile the model\n",
        "model.compile(optimizer=tf.keras.optimizers.Adam(learning_rate=0.001),\n",
        "              loss='mean_squared_error',\n",
        "              metrics=['mae'])\n",
        "\n",
        "# Early stopping callback\n",
        "early_stopping = tf.keras.callbacks.EarlyStopping(monitor='val_loss', patience=10, restore_best_weights=True)\n",
        "\n",
        "# Train the model\n",
        "model.fit(X_train, y_train, epochs=200, batch_size=32,\n",
        "          validation_data=(X_test, y_test), verbose=1, callbacks=[early_stopping])\n",
        "\n",
        "# Evaluate the model\n",
        "train_loss, train_mae = model.evaluate(X_train, y_train, verbose=1)\n",
        "test_loss, test_mae = model.evaluate(X_test, y_test, verbose=1)\n",
        "print(f'Training MAE: {train_mae}, Testing MAE: {test_mae}')\n",
        "\n",
        "# Save the model\n",
        "model.save(\"/mnt/data/housing_price_model_optimized.h5\")\n",
        "print(\"Optimized model saved as 'housing_price_model_optimized.h5'.\")\n",
        "\n",
        "# Load and use the saved model\n",
        "loaded_model = tf.keras.models.load_model(\"/mnt/data/housing_price_model_optimized.h5\")\n",
        "predictions = np.expm1(loaded_model.predict(X_test[:5]))\n",
        "\n",
        "# Display sample predictions\n",
        "print(\"Sample Predictions:\")\n",
        "print(predictions)"
      ]
    }
  ]
}