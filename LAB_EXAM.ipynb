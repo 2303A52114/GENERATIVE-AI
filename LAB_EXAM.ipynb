{
  "nbformat": 4,
  "nbformat_minor": 0,
  "metadata": {
    "colab": {
      "provenance": [],
      "authorship_tag": "ABX9TyNcR6DjJauGCeWMF1U9kYnB",
      "include_colab_link": true
    },
    "kernelspec": {
      "name": "python3",
      "display_name": "Python 3"
    },
    "language_info": {
      "name": "python"
    }
  },
  "cells": [
    {
      "cell_type": "markdown",
      "metadata": {
        "id": "view-in-github",
        "colab_type": "text"
      },
      "source": [
        "<a href=\"https://colab.research.google.com/github/2303A52114/GENERATIVE-AI/blob/main/LAB_EXAM.ipynb\" target=\"_parent\"><img src=\"https://colab.research.google.com/assets/colab-badge.svg\" alt=\"Open In Colab\"/></a>"
      ]
    },
    {
      "cell_type": "code",
      "execution_count": 1,
      "metadata": {
        "colab": {
          "base_uri": "https://localhost:8080/"
        },
        "id": "BZzpU02kcbE2",
        "outputId": "60821f04-dd46-4b8a-8688-2ba2f96106b8"
      },
      "outputs": [
        {
          "output_type": "stream",
          "name": "stdout",
          "text": [
            "MAE (manual): 0.4600000000000016\n",
            "MSE (manual): 0.24600000000000147\n",
            "RMSE (manual): 0.49598387070549127\n",
            "MAE (sklearn): 0.4600000000000016\n",
            "MSE (sklearn): 0.24600000000000147\n",
            "RMSE (sklearn): 0.49598387070549127\n"
          ]
        }
      ],
      "source": [
        "y_actual = [20, 30, 40, 50, 60]\n",
        "y_pred = [20.5, 30.3, 40.2, 50.6, 60.7]\n",
        "def mean_absolute_error(y_actual, y_pred):\n",
        "    return sum(abs(a - p) for a, p in zip(y_actual, y_pred)) / len(y_actual)\n",
        "\n",
        "def mean_squared_error(y_actual, y_pred):\n",
        "    return sum((a - p) ** 2 for a, p in zip(y_actual, y_pred)) / len(y_actual)\n",
        "\n",
        "def root_mean_squared_error(y_actual, y_pred):\n",
        "    mse = mean_squared_error(y_actual, y_pred)\n",
        "    return mse ** 0.5\n",
        "mae = mean_absolute_error(y_actual, y_pred)\n",
        "mse = mean_squared_error(y_actual, y_pred)\n",
        "rmse = root_mean_squared_error(y_actual, y_pred)\n",
        "\n",
        "print(\"MAE (manual):\", mae)\n",
        "print(\"MSE (manual):\", mse)\n",
        "print(\"RMSE (manual):\", rmse)\n",
        "from sklearn.metrics import mean_absolute_error as mae_sklearn, mean_squared_error as mse_sklearn\n",
        "\n",
        "mae_sklearn_value = mae_sklearn(y_actual, y_pred)\n",
        "mse_sklearn_value = mse_sklearn(y_actual, y_pred)\n",
        "rmse_sklearn_value = mse_sklearn_value ** 0.5\n",
        "\n",
        "print(\"MAE (sklearn):\", mae_sklearn_value)\n",
        "print(\"MSE (sklearn):\", mse_sklearn_value)\n",
        "print(\"RMSE (sklearn):\", rmse_sklearn_value)\n"
      ]
    }
  ]
}